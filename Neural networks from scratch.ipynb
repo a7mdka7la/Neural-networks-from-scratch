{
 "cells": [
  {
   "cell_type": "code",
   "execution_count": 1,
   "metadata": {},
   "outputs": [],
   "source": [
    "import numpy as np \n",
    "import pandas as pd \n",
    "from matplotlib import pyplot as plt    \n",
    "import math"
   ]
  },
  {
   "cell_type": "code",
   "execution_count": 2,
   "metadata": {},
   "outputs": [
    {
     "data": {
      "text/html": [
       "<div>\n",
       "<style scoped>\n",
       "    .dataframe tbody tr th:only-of-type {\n",
       "        vertical-align: middle;\n",
       "    }\n",
       "\n",
       "    .dataframe tbody tr th {\n",
       "        vertical-align: top;\n",
       "    }\n",
       "\n",
       "    .dataframe thead th {\n",
       "        text-align: right;\n",
       "    }\n",
       "</style>\n",
       "<table border=\"1\" class=\"dataframe\">\n",
       "  <thead>\n",
       "    <tr style=\"text-align: right;\">\n",
       "      <th></th>\n",
       "      <th>label</th>\n",
       "      <th>pixel0</th>\n",
       "      <th>pixel1</th>\n",
       "      <th>pixel2</th>\n",
       "      <th>pixel3</th>\n",
       "      <th>pixel4</th>\n",
       "      <th>pixel5</th>\n",
       "      <th>pixel6</th>\n",
       "      <th>pixel7</th>\n",
       "      <th>pixel8</th>\n",
       "      <th>...</th>\n",
       "      <th>pixel774</th>\n",
       "      <th>pixel775</th>\n",
       "      <th>pixel776</th>\n",
       "      <th>pixel777</th>\n",
       "      <th>pixel778</th>\n",
       "      <th>pixel779</th>\n",
       "      <th>pixel780</th>\n",
       "      <th>pixel781</th>\n",
       "      <th>pixel782</th>\n",
       "      <th>pixel783</th>\n",
       "    </tr>\n",
       "  </thead>\n",
       "  <tbody>\n",
       "    <tr>\n",
       "      <th>0</th>\n",
       "      <td>1</td>\n",
       "      <td>0</td>\n",
       "      <td>0</td>\n",
       "      <td>0</td>\n",
       "      <td>0</td>\n",
       "      <td>0</td>\n",
       "      <td>0</td>\n",
       "      <td>0</td>\n",
       "      <td>0</td>\n",
       "      <td>0</td>\n",
       "      <td>...</td>\n",
       "      <td>0</td>\n",
       "      <td>0</td>\n",
       "      <td>0</td>\n",
       "      <td>0</td>\n",
       "      <td>0</td>\n",
       "      <td>0</td>\n",
       "      <td>0</td>\n",
       "      <td>0</td>\n",
       "      <td>0</td>\n",
       "      <td>0</td>\n",
       "    </tr>\n",
       "    <tr>\n",
       "      <th>1</th>\n",
       "      <td>0</td>\n",
       "      <td>0</td>\n",
       "      <td>0</td>\n",
       "      <td>0</td>\n",
       "      <td>0</td>\n",
       "      <td>0</td>\n",
       "      <td>0</td>\n",
       "      <td>0</td>\n",
       "      <td>0</td>\n",
       "      <td>0</td>\n",
       "      <td>...</td>\n",
       "      <td>0</td>\n",
       "      <td>0</td>\n",
       "      <td>0</td>\n",
       "      <td>0</td>\n",
       "      <td>0</td>\n",
       "      <td>0</td>\n",
       "      <td>0</td>\n",
       "      <td>0</td>\n",
       "      <td>0</td>\n",
       "      <td>0</td>\n",
       "    </tr>\n",
       "    <tr>\n",
       "      <th>2</th>\n",
       "      <td>1</td>\n",
       "      <td>0</td>\n",
       "      <td>0</td>\n",
       "      <td>0</td>\n",
       "      <td>0</td>\n",
       "      <td>0</td>\n",
       "      <td>0</td>\n",
       "      <td>0</td>\n",
       "      <td>0</td>\n",
       "      <td>0</td>\n",
       "      <td>...</td>\n",
       "      <td>0</td>\n",
       "      <td>0</td>\n",
       "      <td>0</td>\n",
       "      <td>0</td>\n",
       "      <td>0</td>\n",
       "      <td>0</td>\n",
       "      <td>0</td>\n",
       "      <td>0</td>\n",
       "      <td>0</td>\n",
       "      <td>0</td>\n",
       "    </tr>\n",
       "    <tr>\n",
       "      <th>3</th>\n",
       "      <td>4</td>\n",
       "      <td>0</td>\n",
       "      <td>0</td>\n",
       "      <td>0</td>\n",
       "      <td>0</td>\n",
       "      <td>0</td>\n",
       "      <td>0</td>\n",
       "      <td>0</td>\n",
       "      <td>0</td>\n",
       "      <td>0</td>\n",
       "      <td>...</td>\n",
       "      <td>0</td>\n",
       "      <td>0</td>\n",
       "      <td>0</td>\n",
       "      <td>0</td>\n",
       "      <td>0</td>\n",
       "      <td>0</td>\n",
       "      <td>0</td>\n",
       "      <td>0</td>\n",
       "      <td>0</td>\n",
       "      <td>0</td>\n",
       "    </tr>\n",
       "    <tr>\n",
       "      <th>4</th>\n",
       "      <td>0</td>\n",
       "      <td>0</td>\n",
       "      <td>0</td>\n",
       "      <td>0</td>\n",
       "      <td>0</td>\n",
       "      <td>0</td>\n",
       "      <td>0</td>\n",
       "      <td>0</td>\n",
       "      <td>0</td>\n",
       "      <td>0</td>\n",
       "      <td>...</td>\n",
       "      <td>0</td>\n",
       "      <td>0</td>\n",
       "      <td>0</td>\n",
       "      <td>0</td>\n",
       "      <td>0</td>\n",
       "      <td>0</td>\n",
       "      <td>0</td>\n",
       "      <td>0</td>\n",
       "      <td>0</td>\n",
       "      <td>0</td>\n",
       "    </tr>\n",
       "  </tbody>\n",
       "</table>\n",
       "<p>5 rows × 785 columns</p>\n",
       "</div>"
      ],
      "text/plain": [
       "   label  pixel0  pixel1  pixel2  pixel3  pixel4  pixel5  pixel6  pixel7   \n",
       "0      1       0       0       0       0       0       0       0       0  \\\n",
       "1      0       0       0       0       0       0       0       0       0   \n",
       "2      1       0       0       0       0       0       0       0       0   \n",
       "3      4       0       0       0       0       0       0       0       0   \n",
       "4      0       0       0       0       0       0       0       0       0   \n",
       "\n",
       "   pixel8  ...  pixel774  pixel775  pixel776  pixel777  pixel778  pixel779   \n",
       "0       0  ...         0         0         0         0         0         0  \\\n",
       "1       0  ...         0         0         0         0         0         0   \n",
       "2       0  ...         0         0         0         0         0         0   \n",
       "3       0  ...         0         0         0         0         0         0   \n",
       "4       0  ...         0         0         0         0         0         0   \n",
       "\n",
       "   pixel780  pixel781  pixel782  pixel783  \n",
       "0         0         0         0         0  \n",
       "1         0         0         0         0  \n",
       "2         0         0         0         0  \n",
       "3         0         0         0         0  \n",
       "4         0         0         0         0  \n",
       "\n",
       "[5 rows x 785 columns]"
      ]
     },
     "execution_count": 2,
     "metadata": {},
     "output_type": "execute_result"
    }
   ],
   "source": [
    "data = pd.read_csv(\"train.csv\")\n",
    "data.head()"
   ]
  },
  {
   "cell_type": "code",
   "execution_count": 3,
   "metadata": {},
   "outputs": [],
   "source": [
    "data = np.array(data)\n",
    "m, n = data.shape\n",
    "np.random.shuffle(data) \n",
    "\n",
    "data_dev = data[0:1000].T\n",
    "Y_dev = data_dev[0]\n",
    "X_dev = data_dev[1:n]\n",
    "X_dev = X_dev / 255.\n",
    "\n",
    "data_train = data[1000:m].T\n",
    "y_train = data_train[0]\n",
    "X_train = data_train[1:n]\n",
    "X_train = X_train / 255.\n",
    "_,m_train = X_train.shape\n",
    "\n"
   ]
  },
  {
   "cell_type": "code",
   "execution_count": 4,
   "metadata": {},
   "outputs": [
    {
     "data": {
      "text/plain": [
       "array([7, 6, 0, ..., 9, 5, 4], dtype=int64)"
      ]
     },
     "execution_count": 4,
     "metadata": {},
     "output_type": "execute_result"
    }
   ],
   "source": [
    "y_train"
   ]
  },
  {
   "cell_type": "code",
   "execution_count": 5,
   "metadata": {},
   "outputs": [],
   "source": [
    "def init_params():\n",
    "    W1 = np.random.rand(10,784) - 0.5\n",
    "    b1 = np.random.rand(10, 1) - 0.5\n",
    "    W2 = np.random.rand(10, 10) - 0.5\n",
    "    b2 = np.random.rand(10, 1) - 0.5\n",
    "    return W1, b1, W2, b2\n",
    "\n",
    "def sigmoid(NETj):\n",
    "    return 1 / (1 + np.exp(-NETj))\n",
    "\n",
    "def Relu(net):\n",
    "    return np.maximum(0,net)\n",
    "def dev_Relu(net):\n",
    "    return net > 0\n",
    "def softmax(Z):\n",
    "    A = np.exp(Z) / sum(np.exp(Z))\n",
    "    return A\n",
    "\n",
    "def sigmoid_derivative(Net):\n",
    "    sig = sigmoid(Net)\n",
    "    return sig * (1-sig)\n",
    "\n",
    "def forward_prop(W1,b1,W2,b2,X):\n",
    "    # print(X.shape)\n",
    "    # print(W1.shape)\n",
    "    net1 = np.dot(W1,X) + 1\n",
    "    O1 = sigmoid(net1)\n",
    "    net2 = W2.dot(O1) + 1\n",
    "    O2 = softmax(net2)\n",
    "    return net1,O1,net2,O2\n",
    "\n",
    "def one_hot(y):\n",
    "    one_hot_y = np.zeros((y.size, y.max() + 1))\n",
    "    one_hot_y[np.arange(y.size), y] = 1\n",
    "    return one_hot_y.T\n",
    "\n",
    "def back_prop(net1, o1, net2, o2, W2, X, y):\n",
    "    one_hot_y = one_hot(y)\n",
    "    d_net2 = o2 - one_hot_y\n",
    "    dw2 = 1 / m * d_net2.dot(o1.T)\n",
    "    db2 = 1 /m * np.sum(d_net2, 1)  \n",
    "    d_net1 = W2.T.dot(d_net2) * sigmoid_derivative(net1)\n",
    "    dw1 = 1 / m * d_net1.dot(X.T)\n",
    "    db1 = 1 / m * np.sum(d_net1, 1)  \n",
    "    return dw1, db1, dw2, db2\n",
    "\n",
    "def update(W1, b1, W2, b2, dW1, db1, dW2, db2, rate):\n",
    "    W1 = W1 - rate * dW1\n",
    "    b1 = b1 - rate * db1    \n",
    "    W2 = W2 - rate * dW2  \n",
    "    b2 = b2 - rate * db2    \n",
    "    return W1, b1, W2, b2\n",
    "    "
   ]
  },
  {
   "cell_type": "code",
   "execution_count": 9,
   "metadata": {},
   "outputs": [],
   "source": [
    "def get_predictions(o2):\n",
    "    return np.argmax(o2,0)\n",
    "def get_accuracy(predictions,y):\n",
    "    print(predictions,y)\n",
    "    return np.sum(predictions ==  y) / y.size\n",
    "def gradient_descent(X,y,iterations, rate):\n",
    "    w1,b1,w2,b2 = init_params()\n",
    "    for i in range(iterations):\n",
    "        net1,o1,net2,o2 = forward_prop(w1,b1,w2,b2,X)\n",
    "        dw1, db1, dw2, db2 = back_prop(net1,o1,net2,o2,w2,X,y)\n",
    "        w1,b1,w2,b2 = update(w1,b1,w2,b2,dw1,db1,dw2,db2,rate)\n",
    "        if(i % 50 == 0):\n",
    "            print(\"iteration: \",i)\n",
    "            print(\"accuracy: \",get_accuracy(get_predictions(o2),y))\n",
    "    return w1,b1,w2,b2"
   ]
  },
  {
   "cell_type": "code",
   "execution_count": 7,
   "metadata": {},
   "outputs": [
    {
     "name": "stdout",
     "output_type": "stream",
     "text": [
      "(784, 41000)\n",
      "[[0. 0. 0. ... 0. 0. 0.]\n",
      " [0. 0. 0. ... 0. 0. 0.]\n",
      " [0. 0. 0. ... 0. 0. 0.]\n",
      " ...\n",
      " [0. 0. 0. ... 0. 0. 0.]\n",
      " [0. 0. 0. ... 0. 0. 0.]\n",
      " [0. 0. 0. ... 0. 0. 0.]]\n"
     ]
    }
   ],
   "source": [
    "print(X_train.shape)\n",
    "print(X_train)"
   ]
  },
  {
   "cell_type": "code",
   "execution_count": 10,
   "metadata": {},
   "outputs": [
    {
     "name": "stdout",
     "output_type": "stream",
     "text": [
      "iteration:  0\n",
      "[4 4 4 ... 4 7 4] [7 6 0 ... 9 5 4]\n",
      "accuracy:  0.09048780487804878\n",
      "iteration:  50\n",
      "[7 6 0 ... 9 7 4] [7 6 0 ... 9 5 4]\n",
      "accuracy:  0.6599268292682927\n",
      "iteration:  100\n",
      "[7 6 0 ... 9 2 4] [7 6 0 ... 9 5 4]\n",
      "accuracy:  0.788829268292683\n",
      "iteration:  150\n",
      "[7 6 0 ... 9 0 4] [7 6 0 ... 9 5 4]\n",
      "accuracy:  0.8308048780487804\n",
      "iteration:  200\n",
      "[7 6 0 ... 9 0 4] [7 6 0 ... 9 5 4]\n",
      "accuracy:  0.8508292682926829\n",
      "iteration:  250\n",
      "[7 6 0 ... 9 0 4] [7 6 0 ... 9 5 4]\n",
      "accuracy:  0.864\n",
      "iteration:  300\n",
      "[7 6 0 ... 9 0 4] [7 6 0 ... 9 5 4]\n",
      "accuracy:  0.873780487804878\n",
      "iteration:  350\n",
      "[7 6 0 ... 9 0 9] [7 6 0 ... 9 5 4]\n",
      "accuracy:  0.8816341463414634\n",
      "iteration:  400\n",
      "[7 6 0 ... 9 0 9] [7 6 0 ... 9 5 4]\n",
      "accuracy:  0.887219512195122\n",
      "iteration:  450\n",
      "[7 6 0 ... 9 0 4] [7 6 0 ... 9 5 4]\n",
      "accuracy:  0.8918536585365854\n",
      "iteration:  500\n",
      "[7 6 0 ... 9 0 4] [7 6 0 ... 9 5 4]\n",
      "accuracy:  0.8955609756097561\n",
      "iteration:  550\n",
      "[7 6 0 ... 9 0 4] [7 6 0 ... 9 5 4]\n",
      "accuracy:  0.8985121951219512\n",
      "iteration:  600\n",
      "[7 6 0 ... 9 0 4] [7 6 0 ... 9 5 4]\n",
      "accuracy:  0.9015121951219512\n",
      "iteration:  650\n",
      "[7 6 0 ... 9 0 4] [7 6 0 ... 9 5 4]\n",
      "accuracy:  0.9037317073170732\n",
      "iteration:  700\n",
      "[7 6 0 ... 9 5 4] [7 6 0 ... 9 5 4]\n",
      "accuracy:  0.9059024390243903\n",
      "iteration:  750\n",
      "[7 6 0 ... 9 5 4] [7 6 0 ... 9 5 4]\n",
      "accuracy:  0.9077804878048781\n"
     ]
    }
   ],
   "source": [
    "w1,b1,w2,b2 = gradient_descent(X_train,y_train,800,0.8)"
   ]
  },
  {
   "cell_type": "code",
   "execution_count": 12,
   "metadata": {},
   "outputs": [],
   "source": [
    "def make_predictions(X, W1, b1, W2, b2):\n",
    "    _, _, _, o2 = forward_prop(W1, b1, W2, b2, X)\n",
    "    predictions = get_predictions(o2) \n",
    "    return predictions\n",
    "\n",
    "def test_predictions(index, W1, b1, W2, b2):\n",
    "    current_image = X_train[:, index, None]\n",
    "    prediction = make_predictions(X_train[:, index, None], W1, b1, W2, b2)\n",
    "    label = y_train[index]\n",
    "    print(\"Prediction:\", prediction)\n",
    "    print(\"Label:\", label)\n",
    "    current_image = current_image.reshape((28, 28)) * 255\n",
    "    plt.gray()\n",
    "    plt.imshow(current_image, interpolation='nearest')\n",
    "    plt.show()"
   ]
  },
  {
   "cell_type": "code",
   "execution_count": 13,
   "metadata": {},
   "outputs": [
    {
     "name": "stdout",
     "output_type": "stream",
     "text": [
      "Prediction: [4]\n",
      "Label: 4\n"
     ]
    },
    {
     "data": {
      "image/png": "[encoded data removed]",
      "text/plain": [
       "<Figure size 640x480 with 1 Axes>"
      ]
     },
     "metadata": {},
     "output_type": "display_data"
    },
    {
     "name": "stdout",
     "output_type": "stream",
     "text": [
      "Prediction: [6]\n",
      "Label: 6\n"
     ]
    },
    {
     "data": {
      "image/png": "[encoded data removed]",
      "text/plain": [
       "<Figure size 640x480 with 1 Axes>"
      ]
     },
     "metadata": {},
     "output_type": "display_data"
    },
    {
     "name": "stdout",
     "output_type": "stream",
     "text": [
      "Prediction: [8]\n",
      "Label: 8\n"
     ]
    },
    {
     "data": {
      "image/png": "[encoded data removed]",
      "text/plain": [
       "<Figure size 640x480 with 1 Axes>"
      ]
     },
     "metadata": {},
     "output_type": "display_data"
    },
    {
     "name": "stdout",
     "output_type": "stream",
     "text": [
      "Prediction: [6]\n",
      "Label: 6\n"
     ]
    },
    {
     "data": {
      "image/png": "[encoded data removed]",
      "text/plain": [
       "<Figure size 640x480 with 1 Axes>"
      ]
     },
     "metadata": {},
     "output_type": "display_data"
    }
   ],
   "source": [
    "test_predictions(5, w1, b1, w2, b2)\n",
    "test_predictions(4, w1, b1, w2, b2)\n",
    "test_predictions(9, w1, b1, w2, b2)\n",
    "test_predictions(1, w1, b1, w2, b2)"
   ]
  },
  {
   "cell_type": "code",
   "execution_count": null,
   "metadata": {},
   "outputs": [],
   "source": []
  }
 ],
 "metadata": {
  "kernelspec": {
   "display_name": "Python 3",
   "language": "python",
   "name": "python3"
  },
  "language_info": {
   "codemirror_mode": {
    "name": "ipython",
    "version": 3
   },
   "file_extension": ".py",
   "mimetype": "text/x-python",
   "name": "python",
   "nbconvert_exporter": "python",
   "pygments_lexer": "ipython3",
   "version": "3.10.8"
  }
 },
 "nbformat": 4,
 "nbformat_minor": 2
}
